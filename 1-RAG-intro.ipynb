{
 "cells": [
  {
   "cell_type": "markdown",
   "metadata": {
    "id": "jtOXcwsnw0T9"
   },
   "source": [
    "# Модуль 1. Вступ до LLM та RAG"
   ]
  },
  {
   "cell_type": "markdown",
   "metadata": {
    "id": "DXyENNfTH98l"
   },
   "source": [
    "## 1. Пошук та отримання інформації"
   ]
  },
  {
   "cell_type": "markdown",
   "metadata": {
    "id": "QCRRcK4vJ80P"
   },
   "source": [
    "### Імпорт пошукової системи\n",
    "\n"
   ]
  },
  {
   "cell_type": "markdown",
   "metadata": {
    "id": "D9ErT4PhLZaL"
   },
   "source": [
    "Для пошуку у файлах FAQ курсів Zoomcamp ми спочатку будемо використовувати просту пошукову систему, що працює в пам'яті. Відповідна бібліотека знаходиться у файлі minsearch.py. А файл, у свою чергу, знаходиться в репозиторії на GitHub. Ми завантажуємо його як пакет та підключаємо."
   ]
  },
  {
   "cell_type": "code",
   "execution_count": 1,
   "metadata": {
    "colab": {
     "base_uri": "https://localhost:8080/"
    },
    "executionInfo": {
     "elapsed": 353,
     "status": "ok",
     "timestamp": 1749552936008,
     "user": {
      "displayName": "Тарас Самойлов",
      "userId": "11716288968953178229"
     },
     "user_tz": -180
    },
    "id": "ClVnk1-FwJkl",
    "outputId": "12a6eb62-147e-49f7-d796-3995b4e2d6e2"
   },
   "outputs": [
    {
     "name": "stdout",
     "output_type": "stream",
     "text": [
      "--2025-06-12 11:34:43--  https://raw.githubusercontent.com/alexeygrigorev/minsearch/refs/heads/main/minsearch.py\n",
      "Resolving raw.githubusercontent.com (raw.githubusercontent.com)... 185.199.109.133, 185.199.110.133, 185.199.111.133, ...\n",
      "Connecting to raw.githubusercontent.com (raw.githubusercontent.com)|185.199.109.133|:443... connected.\n",
      "HTTP request sent, awaiting response... 200 OK\n",
      "Length: 4073 (4.0K) [text/plain]\n",
      "Saving to: ‘minsearch.py’\n",
      "\n",
      "minsearch.py        100%[===================>]   3.98K  --.-KB/s    in 0s      \n",
      "\n",
      "2025-06-12 11:34:43 (37.8 MB/s) - ‘minsearch.py’ saved [4073/4073]\n",
      "\n"
     ]
    }
   ],
   "source": [
    "!wget https://raw.githubusercontent.com/alexeygrigorev/minsearch/refs/heads/main/minsearch.py"
   ]
  },
  {
   "cell_type": "code",
   "execution_count": 3,
   "metadata": {
    "executionInfo": {
     "elapsed": 39,
     "status": "ok",
     "timestamp": 1749552954878,
     "user": {
      "displayName": "Тарас Самойлов",
      "userId": "11716288968953178229"
     },
     "user_tz": -180
    },
    "id": "tuGOjABAy_Vd"
   },
   "outputs": [],
   "source": [
    "import minsearch"
   ]
  },
  {
   "cell_type": "markdown",
   "metadata": {
    "id": "K8F38biDMiGV"
   },
   "source": [
    "### Завантаження та обробка даних з файлів FAQ"
   ]
  },
  {
   "cell_type": "markdown",
   "metadata": {
    "id": "eCbsoyi4NG_w"
   },
   "source": [
    "Усі три документи FAQ вже підготовлені та знаходяться у файлі documents.json. Завантажуємо його з репозиторію. Але спочатку підключимо бібліотеку JSON для роботи з цим форматом файлів."
   ]
  },
  {
   "cell_type": "code",
   "execution_count": 1,
   "metadata": {
    "executionInfo": {
     "elapsed": 65,
     "status": "ok",
     "timestamp": 1749552965320,
     "user": {
      "displayName": "Тарас Самойлов",
      "userId": "11716288968953178229"
     },
     "user_tz": -180
    },
    "id": "TUO0CNNDzjRq"
   },
   "outputs": [],
   "source": [
    "import json"
   ]
  },
  {
   "cell_type": "code",
   "execution_count": 2,
   "metadata": {
    "colab": {
     "base_uri": "https://localhost:8080/"
    },
    "executionInfo": {
     "elapsed": 323,
     "status": "ok",
     "timestamp": 1749552974603,
     "user": {
      "displayName": "Тарас Самойлов",
      "userId": "11716288968953178229"
     },
     "user_tz": -180
    },
    "id": "oA1hufJL5xxg",
    "outputId": "9a94fc6d-35b4-42a8-aff6-69e156eb089a"
   },
   "outputs": [
    {
     "name": "stdout",
     "output_type": "stream",
     "text": [
      "--2025-06-13 06:49:17--  https://raw.githubusercontent.com/DataTalksClub/llm-zoomcamp/refs/heads/main/01-intro/documents.json\n",
      "Resolving raw.githubusercontent.com (raw.githubusercontent.com)... 185.199.109.133, 185.199.110.133, 185.199.111.133, ...\n",
      "Connecting to raw.githubusercontent.com (raw.githubusercontent.com)|185.199.109.133|:443... connected.\n",
      "HTTP request sent, awaiting response... 200 OK\n",
      "Length: 658332 (643K) [text/plain]\n",
      "Saving to: ‘documents.json.1’\n",
      "\n",
      "documents.json.1    100%[===================>] 642.90K  --.-KB/s    in 0.008s  \n",
      "\n",
      "2025-06-13 06:49:18 (75.4 MB/s) - ‘documents.json.1’ saved [658332/658332]\n",
      "\n"
     ]
    }
   ],
   "source": [
    "!wget https://raw.githubusercontent.com/DataTalksClub/llm-zoomcamp/refs/heads/main/01-intro/documents.json"
   ]
  },
  {
   "cell_type": "markdown",
   "metadata": {
    "id": "Th-pYtcCN5hn"
   },
   "source": [
    "Відкриваємо та читаємо файл documents.json."
   ]
  },
  {
   "cell_type": "code",
   "execution_count": 2,
   "metadata": {
    "executionInfo": {
     "elapsed": 22,
     "status": "ok",
     "timestamp": 1749552984110,
     "user": {
      "displayName": "Тарас Самойлов",
      "userId": "11716288968953178229"
     },
     "user_tz": -180
    },
    "id": "wmdt0FfQ20-a"
   },
   "outputs": [],
   "source": [
    "with open('documents.json', 'rt') as f_in:\n",
    "  docs_row = json.load(f_in)"
   ]
  },
  {
   "cell_type": "markdown",
   "metadata": {
    "id": "ZXwrCZ2iOFW9"
   },
   "source": [
    "Цей файл має складну вкладену структуру. Спростимо її. Перетворимо її на список словників. Назвемо цей перелік documents. У кожному словнику міститься питання, відповідь на нього та назва розділу FAQa, до якого він відноситься. Додамо також у кожен словник поле course, що містить назву FAQa, до якого він відноситься."
   ]
  },
  {
   "cell_type": "code",
   "execution_count": 3,
   "metadata": {
    "executionInfo": {
     "elapsed": 10,
     "status": "ok",
     "timestamp": 1749552988889,
     "user": {
      "displayName": "Тарас Самойлов",
      "userId": "11716288968953178229"
     },
     "user_tz": -180
    },
    "id": "hIJENnyt6UPo"
   },
   "outputs": [],
   "source": [
    "documents = []\n",
    "\n",
    "for course_dict in docs_row:\n",
    "  for doc in course_dict['documents']:\n",
    "    doc['course'] = course_dict['course']\n",
    "    documents.append(doc)"
   ]
  },
  {
   "cell_type": "code",
   "execution_count": 10,
   "metadata": {
    "colab": {
     "base_uri": "https://localhost:8080/"
    },
    "executionInfo": {
     "elapsed": 26,
     "status": "ok",
     "timestamp": 1749552990799,
     "user": {
      "displayName": "Тарас Самойлов",
      "userId": "11716288968953178229"
     },
     "user_tz": -180
    },
    "id": "EXmyvvN5DZR6",
    "outputId": "3725021c-53ff-435c-ae7e-623f57856cd9"
   },
   "outputs": [
    {
     "data": {
      "text/plain": [
       "{'text': \"The purpose of this document is to capture frequently asked technical questions\\nThe exact day and hour of the course will be 15th Jan 2024 at 17h00. The course will start with the first  “Office Hours'' live.1\\nSubscribe to course public Google Calendar (it works from Desktop only).\\nRegister before the course starts using this link.\\nJoin the course Telegram channel with announcements.\\nDon’t forget to register in DataTalks.Club's Slack and join the channel.\",\n",
       " 'section': 'General course-related questions',\n",
       " 'question': 'Course - When will the course start?',\n",
       " 'course': 'data-engineering-zoomcamp'}"
      ]
     },
     "execution_count": 10,
     "metadata": {},
     "output_type": "execute_result"
    }
   ],
   "source": [
    "documents[0]"
   ]
  },
  {
   "cell_type": "markdown",
   "metadata": {
    "id": "c2IjxQ07P6QF"
   },
   "source": [
    "### Індексація та пошук"
   ]
  },
  {
   "cell_type": "markdown",
   "metadata": {
    "id": "N7ba0Tf8ZKwy"
   },
   "source": [
    "У пошуковій бібліотеці є клас Index. Для створення індексу потрібно визначити:\n",
    "\n",
    "- Text fields — поля, у яких буде здійснюватися пошук (наприклад, question, text, section)\n",
    "- Keyword fields — поля, за якими можна фільтрувати (наприклад, course)\n",
    "\n",
    "За ключовими полями можна здійснювати фільтрацію результатів так само, як здійснюється SQL-запит. Наприклад: SELECT * WHERE course = 'Data Engineering Zoomcamp'. За текстовими полями ми будемо здійснювати пошук."
   ]
  },
  {
   "cell_type": "code",
   "execution_count": 9,
   "metadata": {
    "executionInfo": {
     "elapsed": 57,
     "status": "ok",
     "timestamp": 1749553004440,
     "user": {
      "displayName": "Тарас Самойлов",
      "userId": "11716288968953178229"
     },
     "user_tz": -180
    },
    "id": "aqujkmq4RZBZ"
   },
   "outputs": [],
   "source": [
    "index = minsearch.Index(\n",
    "    text_fields=[\"question\", \"text\", \"section\"],\n",
    "    keyword_fields=[\"course\"]\n",
    ")"
   ]
  },
  {
   "cell_type": "code",
   "execution_count": 10,
   "metadata": {
    "colab": {
     "base_uri": "https://localhost:8080/"
    },
    "executionInfo": {
     "elapsed": 168,
     "status": "ok",
     "timestamp": 1749553006192,
     "user": {
      "displayName": "Тарас Самойлов",
      "userId": "11716288968953178229"
     },
     "user_tz": -180
    },
    "id": "jjkbyzUYykxN",
    "outputId": "718fc24d-ff6e-4f8e-a2f0-d9dfac90c9d8"
   },
   "outputs": [
    {
     "data": {
      "text/plain": [
       "<minsearch.Index at 0x7b8d0cff9210>"
      ]
     },
     "execution_count": 10,
     "metadata": {},
     "output_type": "execute_result"
    }
   ],
   "source": [
    "index.fit(documents)"
   ]
  },
  {
   "cell_type": "markdown",
   "metadata": {
    "id": "fXqnyLqI477R"
   },
   "source": [
    "Нашу базу проіндексовано."
   ]
  },
  {
   "cell_type": "markdown",
   "metadata": {
    "id": "YFFuxkfz5HaO"
   },
   "source": [
    "### Налаштування параметрів пошуку та отримання результатів"
   ]
  },
  {
   "cell_type": "markdown",
   "metadata": {
    "id": "Y06ukcei5cZu"
   },
   "source": [
    "Сформулюємо якесь питання щодо курсів та збережемо його в змінній."
   ]
  },
  {
   "cell_type": "code",
   "execution_count": null,
   "metadata": {
    "id": "mOrJmV3Fx7Tl"
   },
   "outputs": [],
   "source": [
    "q = 'The course has already starded, can I still enroll?'"
   ]
  },
  {
   "cell_type": "markdown",
   "metadata": {
    "id": "q_tLjgWN5h8x"
   },
   "source": [
    "Налаштуємо параметри пошуку. Спочатку встановимо приорітети."
   ]
  },
  {
   "cell_type": "code",
   "execution_count": null,
   "metadata": {
    "id": "SpRkSHNP6_dv"
   },
   "outputs": [],
   "source": [
    "boost = {'question': 3.0, 'section': 0.5}"
   ]
  },
  {
   "cell_type": "markdown",
   "metadata": {
    "id": "zL_4MEjU7fUy"
   },
   "source": [
    "Ми задаємо коефіцієнти ваги для різних полів. Значення за замовчуванням - 1. Полю 'question' ми надаємо коефіцієнт рівний 3, а полю 'section' - 0.5. Це означає, що поле, де зберігається питання для нас в три рази важливіше ніж поле з текстом відповіді. Ми робимо пошук саме по питанню. А от поле з назвою секції в половину менш важливе.\n",
    "\n",
    "Це допомагає зробити пошук більш релевантним, надаючи більшого значення пошуковим термінам, знайденим у певних полях (наприклад, у заголовках чи запитаннях)."
   ]
  },
  {
   "cell_type": "markdown",
   "metadata": {
    "id": "o4zU2fwN9ss0"
   },
   "source": [
    "Отримаємо результат пошуку."
   ]
  },
  {
   "cell_type": "code",
   "execution_count": null,
   "metadata": {
    "id": "xMtC00zi0h_1"
   },
   "outputs": [],
   "source": [
    "results = index.search(\n",
    "    query=q,\n",
    "    filter_dict={'course': 'data-engineering-zoomcamp'},\n",
    "    boost_dict=boost,\n",
    "    num_results=5\n",
    ")"
   ]
  },
  {
   "cell_type": "markdown",
   "metadata": {
    "id": "FrvlMUIa-AJM"
   },
   "source": [
    "У параметрі filter_dict ми встановлюємо фільтр по полю course. Тобто шукати відповідь питання ми будемо тільки в курсі data-engineering-zoomcamp. Останній параметр num_results встановлює кількість результатів у виводі."
   ]
  },
  {
   "cell_type": "code",
   "execution_count": null,
   "metadata": {
    "colab": {
     "base_uri": "https://localhost:8080/"
    },
    "executionInfo": {
     "elapsed": 27,
     "status": "ok",
     "timestamp": 1749470768531,
     "user": {
      "displayName": "Тарас Самойлов",
      "userId": "11716288968953178229"
     },
     "user_tz": -180
    },
    "id": "2cKtbbRT1ZsB",
    "outputId": "7c0ba30f-a586-4202-e05b-d538cd628d7d"
   },
   "outputs": [
    {
     "data": {
      "text/plain": [
       "[{'text': \"Yes, even if you don't register, you're still eligible to submit the homeworks.\\nBe aware, however, that there will be deadlines for turning in the final projects. So don't leave everything for the last minute.\",\n",
       "  'section': 'General course-related questions',\n",
       "  'question': 'Course - Can I still join the course after the start date?',\n",
       "  'course': 'data-engineering-zoomcamp'},\n",
       " {'text': 'Yes, we will keep all the materials after the course finishes, so you can follow the course at your own pace after it finishes.\\nYou can also continue looking at the homeworks and continue preparing for the next cohort. I guess you can also start working on your final capstone project.',\n",
       "  'section': 'General course-related questions',\n",
       "  'question': 'Course - Can I follow the course after it finishes?',\n",
       "  'course': 'data-engineering-zoomcamp'},\n",
       " {'text': \"The purpose of this document is to capture frequently asked technical questions\\nThe exact day and hour of the course will be 15th Jan 2024 at 17h00. The course will start with the first  “Office Hours'' live.1\\nSubscribe to course public Google Calendar (it works from Desktop only).\\nRegister before the course starts using this link.\\nJoin the course Telegram channel with announcements.\\nDon’t forget to register in DataTalks.Club's Slack and join the channel.\",\n",
       "  'section': 'General course-related questions',\n",
       "  'question': 'Course - When will the course start?',\n",
       "  'course': 'data-engineering-zoomcamp'},\n",
       " {'text': 'You can start by installing and setting up all the dependencies and requirements:\\nGoogle cloud account\\nGoogle Cloud SDK\\nPython 3 (installed with Anaconda)\\nTerraform\\nGit\\nLook over the prerequisites and syllabus to see if you are comfortable with these subjects.',\n",
       "  'section': 'General course-related questions',\n",
       "  'question': 'Course - What can I do before the course starts?',\n",
       "  'course': 'data-engineering-zoomcamp'},\n",
       " {'text': 'Yes, the slack channel remains open and you can ask questions there. But always sDocker containers exit code w search the channel first and second, check the FAQ (this document), most likely all your questions are already answered here.\\nYou can also tag the bot @ZoomcampQABot to help you conduct the search, but don’t rely on its answers 100%, it is pretty good though.',\n",
       "  'section': 'General course-related questions',\n",
       "  'question': 'Course - Can I get support if I take the course in the self-paced mode?',\n",
       "  'course': 'data-engineering-zoomcamp'}]"
      ]
     },
     "execution_count": 13,
     "metadata": {},
     "output_type": "execute_result"
    }
   ],
   "source": [
    "results"
   ]
  },
  {
   "cell_type": "markdown",
   "metadata": {
    "id": "-aHPIVFhmAJ-"
   },
   "source": [
    "## 2. Генерація відповіді за допомогою GPT-4o"
   ]
  },
  {
   "cell_type": "markdown",
   "metadata": {
    "id": "IUst7eePmE9P"
   },
   "source": [
    "Ми проіндексували документи за допомогою пошукової системи. Тепер ми можемо використати отриману нами з бази даних інформацію і помістити її в запит користувача у якості контексту."
   ]
  },
  {
   "cell_type": "markdown",
   "metadata": {
    "id": "90FQ1-z8nIhy"
   },
   "source": [
    "Спочатку імпотруємо бібліотеку OpenAI."
   ]
  },
  {
   "cell_type": "code",
   "execution_count": 32,
   "metadata": {
    "id": "Qi8gNwwTlZFm"
   },
   "outputs": [],
   "source": [
    " from openai import OpenAI"
   ]
  },
  {
   "cell_type": "markdown",
   "metadata": {
    "id": "cbAmnDWQnQgj"
   },
   "source": [
    "Тепер створимо клієнт."
   ]
  },
  {
   "cell_type": "code",
   "execution_count": 33,
   "metadata": {
    "id": "rYlirT1Ilo1f"
   },
   "outputs": [
    {
     "ename": "OpenAIError",
     "evalue": "The api_key client option must be set either by passing api_key to the client or by setting the OPENAI_API_KEY environment variable",
     "output_type": "error",
     "traceback": [
      "\u001b[31m---------------------------------------------------------------------------\u001b[39m",
      "\u001b[31mOpenAIError\u001b[39m                               Traceback (most recent call last)",
      "\u001b[36mCell\u001b[39m\u001b[36m \u001b[39m\u001b[32mIn[33]\u001b[39m\u001b[32m, line 1\u001b[39m\n\u001b[32m----> \u001b[39m\u001b[32m1\u001b[39m client = \u001b[43mOpenAI\u001b[49m\u001b[43m(\u001b[49m\u001b[43m)\u001b[49m\n",
      "\u001b[36mFile \u001b[39m\u001b[32m/usr/local/python/3.12.1/lib/python3.12/site-packages/openai/_client.py:126\u001b[39m, in \u001b[36mOpenAI.__init__\u001b[39m\u001b[34m(self, api_key, organization, project, base_url, websocket_base_url, timeout, max_retries, default_headers, default_query, http_client, _strict_response_validation)\u001b[39m\n\u001b[32m    124\u001b[39m     api_key = os.environ.get(\u001b[33m\"\u001b[39m\u001b[33mOPENAI_API_KEY\u001b[39m\u001b[33m\"\u001b[39m)\n\u001b[32m    125\u001b[39m \u001b[38;5;28;01mif\u001b[39;00m api_key \u001b[38;5;129;01mis\u001b[39;00m \u001b[38;5;28;01mNone\u001b[39;00m:\n\u001b[32m--> \u001b[39m\u001b[32m126\u001b[39m     \u001b[38;5;28;01mraise\u001b[39;00m OpenAIError(\n\u001b[32m    127\u001b[39m         \u001b[33m\"\u001b[39m\u001b[33mThe api_key client option must be set either by passing api_key to the client or by setting the OPENAI_API_KEY environment variable\u001b[39m\u001b[33m\"\u001b[39m\n\u001b[32m    128\u001b[39m     )\n\u001b[32m    129\u001b[39m \u001b[38;5;28mself\u001b[39m.api_key = api_key\n\u001b[32m    131\u001b[39m \u001b[38;5;28;01mif\u001b[39;00m organization \u001b[38;5;129;01mis\u001b[39;00m \u001b[38;5;28;01mNone\u001b[39;00m:\n",
      "\u001b[31mOpenAIError\u001b[39m: The api_key client option must be set either by passing api_key to the client or by setting the OPENAI_API_KEY environment variable"
     ]
    }
   ],
   "source": [
    "client = OpenAI()"
   ]
  },
  {
   "cell_type": "markdown",
   "metadata": {
    "id": "M3sPvMldovFf"
   },
   "source": [
    "Нам не треба вказувати АРІ-ключ якщо ми зберегли його в змінній оточення."
   ]
  },
  {
   "cell_type": "markdown",
   "metadata": {
    "id": "PcrJnDPro_9E"
   },
   "source": [
    "Тепер створимо шаблон промпта."
   ]
  },
  {
   "cell_type": "code",
   "execution_count": null,
   "metadata": {
    "id": "a7ESJxUorKMd"
   },
   "outputs": [],
   "source": [
    "prompt_template = \"\"\"\n",
    "You are a course teaching assistant.\n",
    "Answer the QUESTION based on the CONTEXT from the FAQ database.\n",
    "Use only the facts from the CONTEXT when answering the QUESTION.\n",
    "If the CONTEXT doesn't contain the answer, output \"No information found\".\n",
    "\n",
    "QUESTION: {question}\n",
    "CONTEXT:\n",
    "{context}\n",
    "\"\"\""
   ]
  },
  {
   "cell_type": "markdown",
   "metadata": {
    "id": "8FY4wct4pLhv"
   },
   "source": [
    "У шаблоні ми використовуємо змінні {question} та {context}. На їх місце буде підставлено потрібний контент."
   ]
  },
  {
   "cell_type": "markdown",
   "metadata": {
    "id": "BOGpOqhIpgvX"
   },
   "source": [
    "Сформуємо контекст."
   ]
  },
  {
   "cell_type": "code",
   "execution_count": null,
   "metadata": {
    "id": "2ZIaqZetrkK5"
   },
   "outputs": [],
   "source": [
    "context = \"\"\n",
    "for doc in results:\n",
    "    context += f\"Section: {doc['section']}\\n\"\n",
    "    context += f\"Question: {doc['question']}\\n\"\n",
    "    context += f\"Answer: {doc['text']}\\n\\n\""
   ]
  },
  {
   "cell_type": "code",
   "execution_count": null,
   "metadata": {
    "colab": {
     "base_uri": "https://localhost:8080/"
    },
    "executionInfo": {
     "elapsed": 134,
     "status": "ok",
     "timestamp": 1749472752703,
     "user": {
      "displayName": "Тарас Самойлов",
      "userId": "11716288968953178229"
     },
     "user_tz": -180
    },
    "id": "duhIovyjszbj",
    "outputId": "b6a12c5f-a4a5-4361-e1f5-ddc11567b6a0"
   },
   "outputs": [
    {
     "name": "stdout",
     "output_type": "stream",
     "text": [
      "Section: General course-related questions\n",
      "Question: Course - Can I still join the course after the start date?\n",
      "Answer: Yes, even if you don't register, you're still eligible to submit the homeworks.\n",
      "Be aware, however, that there will be deadlines for turning in the final projects. So don't leave everything for the last minute.\n",
      "\n",
      "Section: General course-related questions\n",
      "Question: Course - Can I follow the course after it finishes?\n",
      "Answer: Yes, we will keep all the materials after the course finishes, so you can follow the course at your own pace after it finishes.\n",
      "You can also continue looking at the homeworks and continue preparing for the next cohort. I guess you can also start working on your final capstone project.\n",
      "\n",
      "Section: General course-related questions\n",
      "Question: Course - When will the course start?\n",
      "Answer: The purpose of this document is to capture frequently asked technical questions\n",
      "The exact day and hour of the course will be 15th Jan 2024 at 17h00. The course will start with the first  “Office Hours'' live.1\n",
      "Subscribe to course public Google Calendar (it works from Desktop only).\n",
      "Register before the course starts using this link.\n",
      "Join the course Telegram channel with announcements.\n",
      "Don’t forget to register in DataTalks.Club's Slack and join the channel.\n",
      "\n",
      "Section: General course-related questions\n",
      "Question: Course - What can I do before the course starts?\n",
      "Answer: You can start by installing and setting up all the dependencies and requirements:\n",
      "Google cloud account\n",
      "Google Cloud SDK\n",
      "Python 3 (installed with Anaconda)\n",
      "Terraform\n",
      "Git\n",
      "Look over the prerequisites and syllabus to see if you are comfortable with these subjects.\n",
      "\n",
      "Section: General course-related questions\n",
      "Question: Course - Can I get support if I take the course in the self-paced mode?\n",
      "Answer: Yes, the slack channel remains open and you can ask questions there. But always sDocker containers exit code w search the channel first and second, check the FAQ (this document), most likely all your questions are already answered here.\n",
      "You can also tag the bot @ZoomcampQABot to help you conduct the search, but don’t rely on its answers 100%, it is pretty good though.\n",
      "\n",
      "\n"
     ]
    }
   ],
   "source": [
    "print(context)"
   ]
  },
  {
   "cell_type": "markdown",
   "metadata": {
    "id": "amzVOZn0qDb8"
   },
   "source": [
    "Створюємо промпт на основі шаблону."
   ]
  },
  {
   "cell_type": "code",
   "execution_count": null,
   "metadata": {
    "id": "RnFSY27AtfKL"
   },
   "outputs": [],
   "source": [
    "prompt = prompt_template.format(question=q, context=context).strip()"
   ]
  },
  {
   "cell_type": "markdown",
   "metadata": {
    "id": "EOp1ktdZqWJj"
   },
   "source": [
    "Тут метод strip() використовується для видалення можливих символів пробілу на початку і в кінці рядку. Ці зайві символи можуть погано вплинути на відповідь LLM."
   ]
  },
  {
   "cell_type": "code",
   "execution_count": null,
   "metadata": {
    "colab": {
     "base_uri": "https://localhost:8080/"
    },
    "executionInfo": {
     "elapsed": 38,
     "status": "ok",
     "timestamp": 1749473059960,
     "user": {
      "displayName": "Тарас Самойлов",
      "userId": "11716288968953178229"
     },
     "user_tz": -180
    },
    "id": "KGcDDS3ftrlb",
    "outputId": "21dfe818-a436-4fed-e0ae-5e995c7f47ba"
   },
   "outputs": [
    {
     "name": "stdout",
     "output_type": "stream",
     "text": [
      "You are a course teaching assistant. \n",
      "Answer the QUESTION based on the CONTEXT from the FAQ database. \n",
      "Use only the facts from the CONTEXT when answering the QUESTION.\n",
      "If the CONTEXT doesn't contain the answer, output \"No information found\".\n",
      "\n",
      "QUESTION: The course has already starded, can I still enroll?\n",
      "CONTEXT: \n",
      "Section: General course-related questions\n",
      "Question: Course - Can I still join the course after the start date?\n",
      "Answer: Yes, even if you don't register, you're still eligible to submit the homeworks.\n",
      "Be aware, however, that there will be deadlines for turning in the final projects. So don't leave everything for the last minute.\n",
      "\n",
      "Section: General course-related questions\n",
      "Question: Course - Can I follow the course after it finishes?\n",
      "Answer: Yes, we will keep all the materials after the course finishes, so you can follow the course at your own pace after it finishes.\n",
      "You can also continue looking at the homeworks and continue preparing for the next cohort. I guess you can also start working on your final capstone project.\n",
      "\n",
      "Section: General course-related questions\n",
      "Question: Course - When will the course start?\n",
      "Answer: The purpose of this document is to capture frequently asked technical questions\n",
      "The exact day and hour of the course will be 15th Jan 2024 at 17h00. The course will start with the first  “Office Hours'' live.1\n",
      "Subscribe to course public Google Calendar (it works from Desktop only).\n",
      "Register before the course starts using this link.\n",
      "Join the course Telegram channel with announcements.\n",
      "Don’t forget to register in DataTalks.Club's Slack and join the channel.\n",
      "\n",
      "Section: General course-related questions\n",
      "Question: Course - What can I do before the course starts?\n",
      "Answer: You can start by installing and setting up all the dependencies and requirements:\n",
      "Google cloud account\n",
      "Google Cloud SDK\n",
      "Python 3 (installed with Anaconda)\n",
      "Terraform\n",
      "Git\n",
      "Look over the prerequisites and syllabus to see if you are comfortable with these subjects.\n",
      "\n",
      "Section: General course-related questions\n",
      "Question: Course - Can I get support if I take the course in the self-paced mode?\n",
      "Answer: Yes, the slack channel remains open and you can ask questions there. But always sDocker containers exit code w search the channel first and second, check the FAQ (this document), most likely all your questions are already answered here.\n",
      "You can also tag the bot @ZoomcampQABot to help you conduct the search, but don’t rely on its answers 100%, it is pretty good though.\n"
     ]
    }
   ],
   "source": [
    "print(prompt)"
   ]
  },
  {
   "cell_type": "markdown",
   "metadata": {
    "id": "PAv8SETOpzgO"
   },
   "source": [
    "Викликаємо LLM, передаємо їй сформований нами промпт та отримуємо відповідь."
   ]
  },
  {
   "cell_type": "code",
   "execution_count": null,
   "metadata": {
    "id": "0KfO6K4epOZp"
   },
   "outputs": [],
   "source": [
    "response = client.chat.completions.create(\n",
    "  model=\"gpt-4o\",\n",
    "  messages=[{\"role\": \"user\", \"content\": prompt}]\n",
    ")\n",
    "\n",
    "response.choices[0].message.content"
   ]
  },
  {
   "cell_type": "markdown",
   "metadata": {
    "id": "xLpJK_iBai9A"
   },
   "source": [
    "## 3. Поліпшення коду. Створення модулів"
   ]
  },
  {
   "cell_type": "markdown",
   "metadata": {
    "id": "yeiECJlRcAI-"
   },
   "source": [
    "У цій частині модуля ми впорядкуємо код, який створили вище. Ми вже проіндексували все, отримали результати, побудували промпт і надіслали його до OpenAI. Тепер треба зібрати все докупи. Ми створимо модульну структуру."
   ]
  },
  {
   "cell_type": "markdown",
   "metadata": {
    "id": "B6b4r4Z3ctbK"
   },
   "source": [
    "Спочатку створиму функцію search, яка приймає query. Перенесемо в неї частину коду з розділу \"Налаштування параметрів пошуку та отримання результатів\". Тільки замість q буде query."
   ]
  },
  {
   "cell_type": "code",
   "execution_count": 11,
   "metadata": {
    "executionInfo": {
     "elapsed": 59,
     "status": "ok",
     "timestamp": 1749553031057,
     "user": {
      "displayName": "Тарас Самойлов",
      "userId": "11716288968953178229"
     },
     "user_tz": -180
    },
    "id": "Y53ahWJIbNVL"
   },
   "outputs": [],
   "source": [
    "def search(query):\n",
    "  boost = {'question': 3.0, 'section': 0.5}\n",
    "\n",
    "  results = index.search(\n",
    "    query=query,\n",
    "    filter_dict={'course': 'data-engineering-zoomcamp'},\n",
    "    boost_dict=boost,\n",
    "    num_results=5\n",
    "  )\n",
    "\n",
    "  return results"
   ]
  },
  {
   "cell_type": "markdown",
   "metadata": {
    "id": "giP848Y7flmw"
   },
   "source": [
    "Створимо функцію build_prompt яка приймає запит query та context (або search_results) і повертає промпт."
   ]
  },
  {
   "cell_type": "code",
   "execution_count": 26,
   "metadata": {
    "executionInfo": {
     "elapsed": 30,
     "status": "ok",
     "timestamp": 1749554416546,
     "user": {
      "displayName": "Тарас Самойлов",
      "userId": "11716288968953178229"
     },
     "user_tz": -180
    },
    "id": "LnHWrDG9gXZQ"
   },
   "outputs": [],
   "source": [
    "def build_prompt(query, search_results):\n",
    "  prompt_template = \"\"\"\n",
    "  You are a course teaching assistant.\n",
    "  Answer the QUESTION based on the CONTEXT from the FAQ database.\n",
    "  Use only the facts from the CONTEXT when answering the QUESTION.\n",
    "  If the CONTEXT doesn't contain the answer, output \"No information found\".\n",
    "\n",
    "  QUESTION: {question}\n",
    "  CONTEXT:\n",
    "  {context}\n",
    "  \"\"\".strip()\n",
    "\n",
    "  context = \"\"\n",
    "\n",
    "  for doc in search_results:\n",
    "    context += f\"Section: {doc['section']}\\n\"\n",
    "    context += f\"Question: {doc['question']}\\n\"\n",
    "    context += f\"Answer: {doc['text']}\\n\\n\"\n",
    "\n",
    "  prompt = prompt_template.format(question=query, context=context).strip()\n",
    "  return prompt"
   ]
  },
  {
   "cell_type": "markdown",
   "metadata": {
    "id": "kDViq_O5kwVf"
   },
   "source": [
    "Створимо функцію llm яка буде приймати промпт і повертати відповідь LLM."
   ]
  },
  {
   "cell_type": "code",
   "execution_count": 27,
   "metadata": {
    "id": "NNqfS02ClCCg"
   },
   "outputs": [],
   "source": [
    "def llm(prompt):\n",
    "  response = client.chat.completions.create(\n",
    "  model=\"gpt-4o\",\n",
    "  messages=[{\"role\": \"user\", \"content\": prompt}]\n",
    "  )\n",
    "\n",
    "  return response.choices[0].message.content"
   ]
  },
  {
   "cell_type": "markdown",
   "metadata": {
    "id": "ECQ-vnBtl1Z1"
   },
   "source": [
    "В нас є три функції, що виконують три окремі кроки конвеєра RAG. Одна виконує пошук по базі. Наступна створює промпт. І остання приймає промпт і повертає відповідь від LLM. Залишилося зібрати їх разом в одну функцію, щоб не викликати окремо."
   ]
  },
  {
   "cell_type": "code",
   "execution_count": null,
   "metadata": {
    "executionInfo": {
     "elapsed": 28,
     "status": "ok",
     "timestamp": 1749554420105,
     "user": {
      "displayName": "Тарас Самойлов",
      "userId": "11716288968953178229"
     },
     "user_tz": -180
    },
    "id": "hq3g7twwedXt"
   },
   "outputs": [],
   "source": [
    "query = \"Haw do I run Kafka?\"\n",
    "\n",
    "def rag(query):\n",
    "  search_results = search(query)\n",
    "  prompt = build_prompt(query, search_results)\n",
    "  answer = llm(prompt)\n",
    "\n",
    "  return answer"
   ]
  },
  {
   "cell_type": "markdown",
   "metadata": {},
   "source": [
    "## 4. Реалізація пошуку з Elasticsearch"
   ]
  },
  {
   "cell_type": "markdown",
   "metadata": {},
   "source": [
    "У цьому розділі ми замінимо простий пошуковий рушій на Elasticsearch. "
   ]
  },
  {
   "cell_type": "markdown",
   "metadata": {},
   "source": [
    "### Запуск Elasticsearch в Docker"
   ]
  },
  {
   "cell_type": "markdown",
   "metadata": {},
   "source": [
    "Ми зараз перебуваємо в середовищі CodeSpaces. Запускаємо Elasticsearch в Doker (який вже встановлено в середовищі). Для цього в терміналі вводимо такий код (попередньо відкриваємо новий термінал, бо в першому вже запущений Jupyter Notebook):\n",
    "\n",
    "docker run -it \\\n",
    "    --rm \\\n",
    "    --name elasticsearch \\\n",
    "    -m 4GB \\\n",
    "    -p 9200:9200 \\\n",
    "    -p 9300:9300 \\\n",
    "    -e \"discovery.type=single-node\" \\\n",
    "    -e \"xpack.security.enabled=false\" \\\n",
    "    docker.elastic.co/elasticsearch/elasticsearch:8.4.3"
   ]
  },
  {
   "cell_type": "markdown",
   "metadata": {},
   "source": [
    "Якщо попередня команда не спрацює, треба спробувати запустити Elasticsearch безпосередньо з Docker Hub. Ось так:\n",
    "\n",
    "docker run -it \\\n",
    "    --rm \\\n",
    "    --name elasticsearch \\\n",
    "    -p 9200:9200 \\\n",
    "    -p 9300:9300 \\\n",
    "    -e \"discovery.type=single-node\" \\\n",
    "    -e \"xpack.security.enabled=false\" \\\n",
    "    elasticsearch:8.4.3"
   ]
  },
  {
   "cell_type": "markdown",
   "metadata": {},
   "source": [
    "Ми завантажили образ Docker і запустили Elasticsearch. Він працює на портах 9200 та 9300. Щоб перевірити ми відкриваємо ще один новий термінал і вводимо простий запит:\n",
    "\n",
    "curl http://localhost:9200\n",
    "\n",
    "Отримуємо відповідь. Це означає, що все працює."
   ]
  },
  {
   "cell_type": "markdown",
   "metadata": {},
   "source": [
    "Насправді нам не потрібно, щоб цей порт перенаправлявся на нашу локальну машину, тому що ми будемо використовувати Elasticsearch лише в CodeSpaces, але в будь-якому випадку, він його перенаправляє."
   ]
  },
  {
   "cell_type": "markdown",
   "metadata": {},
   "source": [
    "### Індексація документів за допомогою Elasticsearch"
   ]
  },
  {
   "cell_type": "code",
   "execution_count": null,
   "metadata": {},
   "outputs": [],
   "source": [
    "Особливість Elasticsearch полягає в тому, що він є постійним. Коли ми завершуємо процес Jupyter Notebook, minsearch не зберігає \n",
    "дані і нам потрібно наступного разу заново будувати індекс. Elasticsearch зберігає всі дані на диску. Наступного разу, коли ми запустимо \n",
    "його, у нас будуть всі необхідні дані і нам не потрібно буде його виконувати.\n",
    "    \n",
    "Звісно, це залежить від того, як саме ми його запускаємо. Нам може знадобитися виконати монтування томів для цього. Це виходить \n",
    "за рамки цього курсу. Більше інформації про Docker можна знайти в курсі з інженерії даних, модуль 1.\n",
    "\n",
    "Отже, проіндексуємо документи за допомогою Elasticsearch щоб згодом використовувати їх для пошуку. \n",
    "\n",
    "Але спочатку розберемось, як використовувати Elasticsearch в Jupyter Notebook. Щоб працювати з Elasticsearch, нам треба його \n",
    "підключити. Зробимо це. "
   ]
  },
  {
   "cell_type": "code",
   "execution_count": 5,
   "metadata": {},
   "outputs": [],
   "source": [
    "from elasticsearch import Elasticsearch"
   ]
  },
  {
   "cell_type": "markdown",
   "metadata": {},
   "source": [
    "Створимо клиєнта Elasticsearch."
   ]
  },
  {
   "cell_type": "code",
   "execution_count": 6,
   "metadata": {},
   "outputs": [],
   "source": [
    "es_client = Elasticsearch('http://localhost:9200')"
   ]
  },
  {
   "cell_type": "markdown",
   "metadata": {},
   "source": [
    "Якщо розгортаєш Elasticsearch десь у хмарі, то треба просто використовувати URL-адресу, яку отримаєш. Але в даному випадку в нас локальне розгортання."
   ]
  },
  {
   "cell_type": "markdown",
   "metadata": {},
   "source": [
    "Перевіримо, чи працює."
   ]
  },
  {
   "cell_type": "code",
   "execution_count": 7,
   "metadata": {},
   "outputs": [
    {
     "data": {
      "text/plain": [
       "ObjectApiResponse({'name': 'a9a29fd3c541', 'cluster_name': 'docker-cluster', 'cluster_uuid': 'QmWE3tlDRb2fopjY3OadQA', 'version': {'number': '8.4.3', 'build_flavor': 'default', 'build_type': 'docker', 'build_hash': '42f05b9372a9a4a470db3b52817899b99a76ee73', 'build_date': '2022-10-04T07:17:24.662462378Z', 'build_snapshot': False, 'lucene_version': '9.3.0', 'minimum_wire_compatibility_version': '7.17.0', 'minimum_index_compatibility_version': '7.0.0'}, 'tagline': 'You Know, for Search'})"
      ]
     },
     "execution_count": 7,
     "metadata": {},
     "output_type": "execute_result"
    }
   ],
   "source": [
    "es_client.info()"
   ]
  },
  {
   "cell_type": "markdown",
   "metadata": {},
   "source": [
    "Створимо індекс Elasticsearch. Індекс - це як таблиця в реляційній базі даних. "
   ]
  },
  {
   "cell_type": "code",
   "execution_count": 8,
   "metadata": {},
   "outputs": [],
   "source": [
    "index_settings = {\n",
    "    \"settings\": {\n",
    "        \"number_of_shards\": 1,\n",
    "        \"number_of_replicas\": 0\n",
    "    },\n",
    "    \"mappings\": {\n",
    "        \"properties\": {\n",
    "            \"text\": {\"type\": \"text\"},\n",
    "            \"section\": {\"type\": \"text\"},\n",
    "            \"question\": {\"type\": \"text\"},\n",
    "            \"course\": {\"type\": \"keyword\"} \n",
    "        }\n",
    "    }\n",
    "}"
   ]
  },
  {
   "cell_type": "markdown",
   "metadata": {},
   "source": [
    "Це налаштування індексу. Тут цікава річ — це властивості (properties). Сourse є ключовим словом. По ньому ми будемо виконувати фільтрацію. Решта типів — text. Це дуже схоже на те, що ми робили з Minsearch, де перші три були text, а course був ключовим словом. \n",
    "\n",
    "Тепер нам потрібно дати назву індексу. Назвемо його \"course_questions\". І нам потрібно буде використовувати клієнт Elasticsearch для створення індексу. Ось так:"
   ]
  },
  {
   "cell_type": "code",
   "execution_count": 9,
   "metadata": {},
   "outputs": [
    {
     "data": {
      "text/plain": [
       "ObjectApiResponse({'acknowledged': True, 'shards_acknowledged': True, 'index': 'course-questions'})"
      ]
     },
     "execution_count": 9,
     "metadata": {},
     "output_type": "execute_result"
    }
   ],
   "source": [
    "index_name = \"course-questions\"\n",
    "\n",
    "es_client.indices.create(index=index_name, body=index_settings)"
   ]
  },
  {
   "cell_type": "markdown",
   "metadata": {},
   "source": [
    "Індекс створено. Тепер ми можемо індексувати дані за його допомогою. Це займе деякий час. Тому є сенс зробити прогрес-бар. Для цього ми імпортуємо бібліотеку tqdm."
   ]
  },
  {
   "cell_type": "code",
   "execution_count": 11,
   "metadata": {},
   "outputs": [],
   "source": [
    "from tqdm.auto import tqdm"
   ]
  },
  {
   "cell_type": "markdown",
   "metadata": {},
   "source": [
    "В нас вже є список documents, в якому містяться FAQи. Використовуємо цикл для їх перебору і щоб працював прогрес-бар пишемо так: tqdm(documents)."
   ]
  },
  {
   "cell_type": "code",
   "execution_count": 12,
   "metadata": {},
   "outputs": [
    {
     "data": {
      "application/vnd.jupyter.widget-view+json": {
       "model_id": "93be348369f24caa9155f2ee79ddff40",
       "version_major": 2,
       "version_minor": 0
      },
      "text/plain": [
       "  0%|          | 0/948 [00:00<?, ?it/s]"
      ]
     },
     "metadata": {},
     "output_type": "display_data"
    }
   ],
   "source": [
    "for doc in tqdm(documents):\n",
    "    es_client.index(index=index_name, document=doc)"
   ]
  },
  {
   "cell_type": "markdown",
   "metadata": {},
   "source": [
    "## Виконання запитів до Elasticsearch"
   ]
  },
  {
   "cell_type": "code",
   "execution_count": 13,
   "metadata": {},
   "outputs": [],
   "source": [
    "query = \"The course has already starded, can I still enroll?\""
   ]
  },
  {
   "cell_type": "markdown",
   "metadata": {},
   "source": [
    "Запит має доволі складний вигляд. Він був підготовлений заздалегіть. "
   ]
  },
  {
   "cell_type": "code",
   "execution_count": 14,
   "metadata": {},
   "outputs": [],
   "source": [
    "search_query = {\n",
    "    \"size\": 5,\n",
    "    \"query\": {\n",
    "        \"bool\": {\n",
    "            \"must\": {\n",
    "                \"multi_match\": {\n",
    "                    \"query\": query,\n",
    "                    \"fields\": [\"question^3\", \"text\", \"section\"],\n",
    "                    \"type\": \"best_fields\"\n",
    "                }\n",
    "            },\n",
    "            \"filter\": {\n",
    "                \"term\": {\n",
    "                    \"course\": \"data-engineering-zoomcamp\"\n",
    "                }\n",
    "            }\n",
    "        }\n",
    "    }\n",
    "}"
   ]
  },
  {
   "cell_type": "markdown",
   "metadata": {},
   "source": [
    "Ми вказуємо поля, по яких повинен відбуватися пошук: \"question^3\", \"text\" та \"section\". Звернімо увагу на ^3. Цей запис вказує, що поле question у три рази важливіше ніж інші поля. \n",
    "\n",
    "Параметр size вказує, скільки результатів пошуку треба вивести.\n",
    "\n",
    "Параметр course, це фільтр, який обмежує пошук тільки документом \"Data Engineering Zoomcamp\". "
   ]
  },
  {
   "cell_type": "markdown",
   "metadata": {},
   "source": [
    "Виконаємо запит."
   ]
  },
  {
   "cell_type": "code",
   "execution_count": 15,
   "metadata": {},
   "outputs": [
    {
     "data": {
      "text/plain": [
       "ObjectApiResponse({'took': 33, 'timed_out': False, '_shards': {'total': 1, 'successful': 1, 'skipped': 0, 'failed': 0}, 'hits': {'total': {'value': 401, 'relation': 'eq'}, 'max_score': 48.763668, 'hits': [{'_index': 'course-questions', '_id': 'KEzOaJcBJ9aJY20iM1pe', '_score': 48.763668, '_source': {'text': \"Yes, even if you don't register, you're still eligible to submit the homeworks.\\nBe aware, however, that there will be deadlines for turning in the final projects. So don't leave everything for the last minute.\", 'section': 'General course-related questions', 'question': 'Course - Can I still join the course after the start date?', 'course': 'data-engineering-zoomcamp'}}, {'_index': 'course-questions', '_id': 'KkzOaJcBJ9aJY20iM1pt', '_score': 36.514423, '_source': {'text': 'You can start by installing and setting up all the dependencies and requirements:\\nGoogle cloud account\\nGoogle Cloud SDK\\nPython 3 (installed with Anaconda)\\nTerraform\\nGit\\nLook over the prerequisites and syllabus to see if you are comfortable with these subjects.', 'section': 'General course-related questions', 'question': 'Course - What can I do before the course starts?', 'course': 'data-engineering-zoomcamp'}}, {'_index': 'course-questions', '_id': 'LUzOaJcBJ9aJY20iM1p-', '_score': 36.514423, '_source': {'text': 'Yes, we will keep all the materials after the course finishes, so you can follow the course at your own pace after it finishes.\\nYou can also continue looking at the homeworks and continue preparing for the next cohort. I guess you can also start working on your final capstone project.', 'section': 'General course-related questions', 'question': 'Course - Can I follow the course after it finishes?', 'course': 'data-engineering-zoomcamp'}}, {'_index': 'course-questions', '_id': 'LkzOaJcBJ9aJY20iM1qC', '_score': 34.183365, '_source': {'text': 'Yes, the slack channel remains open and you can ask questions there. But always sDocker containers exit code w search the channel first and second, check the FAQ (this document), most likely all your questions are already answered here.\\nYou can also tag the bot @ZoomcampQABot to help you conduct the search, but don’t rely on its answers 100%, it is pretty good though.', 'section': 'General course-related questions', 'question': 'Course - Can I get support if I take the course in the self-paced mode?', 'course': 'data-engineering-zoomcamp'}}, {'_index': 'course-questions', '_id': 'KUzOaJcBJ9aJY20iM1pm', '_score': 27.925764, '_source': {'text': \"You don't need it. You're accepted. You can also just start learning and submitting homework without registering. It is not checked against any registered list. Registration is just to gauge interest before the start date.\", 'section': 'General course-related questions', 'question': 'Course - I have registered for the Data Engineering Bootcamp. When can I expect to receive the confirmation email?', 'course': 'data-engineering-zoomcamp'}}]}})"
      ]
     },
     "execution_count": 15,
     "metadata": {},
     "output_type": "execute_result"
    }
   ],
   "source": [
    "es_client.search(index=index_name, body=search_query) "
   ]
  },
  {
   "cell_type": "markdown",
   "metadata": {},
   "source": [
    "Отримали доволі складний об'єкт. Запишемо цей результат у змінну."
   ]
  },
  {
   "cell_type": "code",
   "execution_count": 16,
   "metadata": {},
   "outputs": [],
   "source": [
    "response = es_client.search(index=index_name, body=search_query)"
   ]
  },
  {
   "cell_type": "markdown",
   "metadata": {},
   "source": [
    "Нам треба витягнути з цього об'єкта результати пошуку."
   ]
  },
  {
   "cell_type": "code",
   "execution_count": 18,
   "metadata": {},
   "outputs": [],
   "source": [
    "result_docs = []\n",
    "\n",
    "for hit in response['hits']['hits']:\n",
    "    result_docs.append(hit['_source'])"
   ]
  },
  {
   "cell_type": "code",
   "execution_count": 19,
   "metadata": {},
   "outputs": [
    {
     "data": {
      "text/plain": [
       "[{'text': \"Yes, even if you don't register, you're still eligible to submit the homeworks.\\nBe aware, however, that there will be deadlines for turning in the final projects. So don't leave everything for the last minute.\",\n",
       "  'section': 'General course-related questions',\n",
       "  'question': 'Course - Can I still join the course after the start date?',\n",
       "  'course': 'data-engineering-zoomcamp'},\n",
       " {'text': 'You can start by installing and setting up all the dependencies and requirements:\\nGoogle cloud account\\nGoogle Cloud SDK\\nPython 3 (installed with Anaconda)\\nTerraform\\nGit\\nLook over the prerequisites and syllabus to see if you are comfortable with these subjects.',\n",
       "  'section': 'General course-related questions',\n",
       "  'question': 'Course - What can I do before the course starts?',\n",
       "  'course': 'data-engineering-zoomcamp'},\n",
       " {'text': 'Yes, we will keep all the materials after the course finishes, so you can follow the course at your own pace after it finishes.\\nYou can also continue looking at the homeworks and continue preparing for the next cohort. I guess you can also start working on your final capstone project.',\n",
       "  'section': 'General course-related questions',\n",
       "  'question': 'Course - Can I follow the course after it finishes?',\n",
       "  'course': 'data-engineering-zoomcamp'},\n",
       " {'text': 'Yes, the slack channel remains open and you can ask questions there. But always sDocker containers exit code w search the channel first and second, check the FAQ (this document), most likely all your questions are already answered here.\\nYou can also tag the bot @ZoomcampQABot to help you conduct the search, but don’t rely on its answers 100%, it is pretty good though.',\n",
       "  'section': 'General course-related questions',\n",
       "  'question': 'Course - Can I get support if I take the course in the self-paced mode?',\n",
       "  'course': 'data-engineering-zoomcamp'},\n",
       " {'text': \"You don't need it. You're accepted. You can also just start learning and submitting homework without registering. It is not checked against any registered list. Registration is just to gauge interest before the start date.\",\n",
       "  'section': 'General course-related questions',\n",
       "  'question': 'Course - I have registered for the Data Engineering Bootcamp. When can I expect to receive the confirmation email?',\n",
       "  'course': 'data-engineering-zoomcamp'}]"
      ]
     },
     "execution_count": 19,
     "metadata": {},
     "output_type": "execute_result"
    }
   ],
   "source": [
    "result_docs"
   ]
  },
  {
   "cell_type": "markdown",
   "metadata": {},
   "source": [
    "Тепер зберемо весь цей код у функцію."
   ]
  },
  {
   "cell_type": "code",
   "execution_count": 22,
   "metadata": {},
   "outputs": [],
   "source": [
    "def elastic_search(query):\n",
    "    search_query = {\n",
    "        \"size\": 5,\n",
    "        \"query\": {\n",
    "            \"bool\": {\n",
    "                \"must\": {\n",
    "                    \"multi_match\": {\n",
    "                        \"query\": query,\n",
    "                        \"fields\": [\"question^3\", \"text\", \"section\"],\n",
    "                        \"type\": \"best_fields\"\n",
    "                    }\n",
    "                },\n",
    "                \"filter\": {\n",
    "                    \"term\": {\n",
    "                        \"course\": \"data-engineering-zoomcamp\"\n",
    "                    }\n",
    "                }\n",
    "            }\n",
    "        }\n",
    "    }    \n",
    "\n",
    "    response = es_client.search(index=index_name, body=search_query)\n",
    "\n",
    "    result_docs = []\n",
    "\n",
    "    for hit in response['hits']['hits']:\n",
    "        result_docs.append(hit['_source'])\n",
    "\n",
    "\n",
    "    return result_docs"
   ]
  },
  {
   "cell_type": "code",
   "execution_count": 30,
   "metadata": {},
   "outputs": [],
   "source": [
    "def rag(query):\n",
    "  search_results = elastic_search(query)\n",
    "  prompt = build_prompt(query, search_results)\n",
    "  answer = llm(prompt)\n",
    "\n",
    "  return answer"
   ]
  },
  {
   "cell_type": "code",
   "execution_count": 31,
   "metadata": {},
   "outputs": [
    {
     "ename": "NameError",
     "evalue": "name 'client' is not defined",
     "output_type": "error",
     "traceback": [
      "\u001b[31m---------------------------------------------------------------------------\u001b[39m",
      "\u001b[31mNameError\u001b[39m                                 Traceback (most recent call last)",
      "\u001b[36mCell\u001b[39m\u001b[36m \u001b[39m\u001b[32mIn[31]\u001b[39m\u001b[32m, line 1\u001b[39m\n\u001b[32m----> \u001b[39m\u001b[32m1\u001b[39m \u001b[43mrag\u001b[49m\u001b[43m(\u001b[49m\u001b[43mquery\u001b[49m\u001b[43m)\u001b[49m\n",
      "\u001b[36mCell\u001b[39m\u001b[36m \u001b[39m\u001b[32mIn[30]\u001b[39m\u001b[32m, line 4\u001b[39m, in \u001b[36mrag\u001b[39m\u001b[34m(query)\u001b[39m\n\u001b[32m      2\u001b[39m search_results = elastic_search(query)\n\u001b[32m      3\u001b[39m prompt = build_prompt(query, search_results)\n\u001b[32m----> \u001b[39m\u001b[32m4\u001b[39m answer = \u001b[43mllm\u001b[49m\u001b[43m(\u001b[49m\u001b[43mprompt\u001b[49m\u001b[43m)\u001b[49m\n\u001b[32m      6\u001b[39m \u001b[38;5;28;01mreturn\u001b[39;00m answer\n",
      "\u001b[36mCell\u001b[39m\u001b[36m \u001b[39m\u001b[32mIn[27]\u001b[39m\u001b[32m, line 2\u001b[39m, in \u001b[36mllm\u001b[39m\u001b[34m(prompt)\u001b[39m\n\u001b[32m      1\u001b[39m \u001b[38;5;28;01mdef\u001b[39;00m\u001b[38;5;250m \u001b[39m\u001b[34mllm\u001b[39m(prompt):\n\u001b[32m----> \u001b[39m\u001b[32m2\u001b[39m   response = \u001b[43mclient\u001b[49m.chat.completions.create(\n\u001b[32m      3\u001b[39m   model=\u001b[33m\"\u001b[39m\u001b[33mgpt-4o\u001b[39m\u001b[33m\"\u001b[39m,\n\u001b[32m      4\u001b[39m   messages=[{\u001b[33m\"\u001b[39m\u001b[33mrole\u001b[39m\u001b[33m\"\u001b[39m: \u001b[33m\"\u001b[39m\u001b[33muser\u001b[39m\u001b[33m\"\u001b[39m, \u001b[33m\"\u001b[39m\u001b[33mcontent\u001b[39m\u001b[33m\"\u001b[39m: prompt}]\n\u001b[32m      5\u001b[39m   )\n\u001b[32m      7\u001b[39m   \u001b[38;5;28;01mreturn\u001b[39;00m response.choices[\u001b[32m0\u001b[39m].message.content\n",
      "\u001b[31mNameError\u001b[39m: name 'client' is not defined"
     ]
    }
   ],
   "source": [
    "rag(query)"
   ]
  },
  {
   "cell_type": "code",
   "execution_count": null,
   "metadata": {},
   "outputs": [],
   "source": []
  }
 ],
 "metadata": {
  "colab": {
   "authorship_tag": "ABX9TyNEOxg3SPJFC3taw/YgPztb",
   "provenance": []
  },
  "kernelspec": {
   "display_name": "Python 3 (ipykernel)",
   "language": "python",
   "name": "python3"
  },
  "language_info": {
   "codemirror_mode": {
    "name": "ipython",
    "version": 3
   },
   "file_extension": ".py",
   "mimetype": "text/x-python",
   "name": "python",
   "nbconvert_exporter": "python",
   "pygments_lexer": "ipython3",
   "version": "3.12.1"
  }
 },
 "nbformat": 4,
 "nbformat_minor": 4
}
